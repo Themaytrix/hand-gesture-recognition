{
 "cells": [
  {
   "cell_type": "code",
   "execution_count": 1,
   "metadata": {},
   "outputs": [],
   "source": [
    "import numpy as np\n",
    "import pandas as pd\n",
    "import matplotlib.pyplot as plt"
   ]
  },
  {
   "cell_type": "code",
   "execution_count": 2,
   "metadata": {},
   "outputs": [],
   "source": [
    "save_model_path = 'models/savedkeypoints.h5'\n",
    "tflite_model_path = 'models/savedkeypointclassifies.tflite'\n"
   ]
  },
  {
   "cell_type": "code",
   "execution_count": 3,
   "metadata": {},
   "outputs": [],
   "source": [
    "num_classes = 3"
   ]
  },
  {
   "cell_type": "markdown",
   "metadata": {},
   "source": [
    "Data Preprocessing"
   ]
  },
  {
   "cell_type": "code",
   "execution_count": 4,
   "metadata": {},
   "outputs": [],
   "source": [
    "dataframe = pd.read_csv(\"keypoints.csv\", header=None)\n",
    "x = dataframe.iloc[:,1:43].values\n",
    "y = dataframe.iloc[:,0].values"
   ]
  },
  {
   "cell_type": "code",
   "execution_count": 5,
   "metadata": {},
   "outputs": [],
   "source": [
    "from sklearn.preprocessing import MinMaxScaler\n",
    "sc = MinMaxScaler(feature_range=(0,1))\n",
    "x_scaled =sc.fit_transform(x)"
   ]
  },
  {
   "cell_type": "code",
   "execution_count": 6,
   "metadata": {},
   "outputs": [],
   "source": [
    "from sklearn.model_selection import train_test_split\n",
    "x_train,x_test,y_train,y_test = train_test_split(x_scaled,y,test_size=0.2,random_state=0)"
   ]
  },
  {
   "cell_type": "markdown",
   "metadata": {},
   "source": [
    "Building NN"
   ]
  },
  {
   "cell_type": "code",
   "execution_count": 7,
   "metadata": {},
   "outputs": [],
   "source": [
    "from keras.models import Sequential\n",
    "from keras.layers import Dense,Dropout"
   ]
  },
  {
   "cell_type": "code",
   "execution_count": 8,
   "metadata": {},
   "outputs": [
    {
     "name": "stdout",
     "output_type": "stream",
     "text": [
      "Metal device set to: Apple M1\n",
      "\n",
      "systemMemory: 8.00 GB\n",
      "maxCacheSize: 2.67 GB\n",
      "\n"
     ]
    },
    {
     "name": "stderr",
     "output_type": "stream",
     "text": [
      "2022-11-26 11:39:42.800379: I tensorflow/core/common_runtime/pluggable_device/pluggable_device_factory.cc:306] Could not identify NUMA node of platform GPU ID 0, defaulting to 0. Your kernel may not have been built with NUMA support.\n",
      "2022-11-26 11:39:42.800872: I tensorflow/core/common_runtime/pluggable_device/pluggable_device_factory.cc:272] Created TensorFlow device (/job:localhost/replica:0/task:0/device:GPU:0 with 0 MB memory) -> physical PluggableDevice (device: 0, name: METAL, pci bus id: <undefined>)\n"
     ]
    }
   ],
   "source": [
    "classifier = Sequential()"
   ]
  },
  {
   "cell_type": "code",
   "execution_count": 15,
   "metadata": {},
   "outputs": [],
   "source": [
    "classifier.add(Dense(42,activation='relu',input_shape =(42,)))\n",
    "classifier.add(Dense(50, activation='relu'))\n",
    "classifier.add(Dense(num_classes,activation='softmax'))\n"
   ]
  },
  {
   "cell_type": "code",
   "execution_count": 16,
   "metadata": {},
   "outputs": [
    {
     "name": "stdout",
     "output_type": "stream",
     "text": [
      "Model: \"sequential\"\n",
      "_________________________________________________________________\n",
      " Layer (type)                Output Shape              Param #   \n",
      "=================================================================\n",
      " dense (Dense)               (None, 42)                1806      \n",
      "                                                                 \n",
      " dropout (Dropout)           (None, 42)                0         \n",
      "                                                                 \n",
      " dense_1 (Dense)             (None, 50)                2150      \n",
      "                                                                 \n",
      " dense_2 (Dense)             (None, 3)                 153       \n",
      "                                                                 \n",
      " dense_3 (Dense)             (None, 42)                168       \n",
      "                                                                 \n",
      " dense_4 (Dense)             (None, 50)                2150      \n",
      "                                                                 \n",
      " dense_5 (Dense)             (None, 3)                 153       \n",
      "                                                                 \n",
      "=================================================================\n",
      "Total params: 6,580\n",
      "Trainable params: 6,580\n",
      "Non-trainable params: 0\n",
      "_________________________________________________________________\n"
     ]
    }
   ],
   "source": [
    "classifier.summary()"
   ]
  },
  {
   "cell_type": "code",
   "execution_count": 17,
   "metadata": {},
   "outputs": [],
   "source": [
    "from keras.callbacks import ModelCheckpoint,EarlyStopping"
   ]
  },
  {
   "cell_type": "code",
   "execution_count": 18,
   "metadata": {},
   "outputs": [],
   "source": [
    "cp_callback = ModelCheckpoint(save_model_path,verbose=1,save_weights_only=False)\n",
    "es_callback =EarlyStopping(patience=20, verbose = 1)"
   ]
  },
  {
   "cell_type": "code",
   "execution_count": 19,
   "metadata": {},
   "outputs": [],
   "source": [
    "classifier.compile(optimizer='adam', loss='sparse_categorical_crossentropy', metrics=['accuracy'])\n"
   ]
  },
  {
   "cell_type": "code",
   "execution_count": 20,
   "metadata": {},
   "outputs": [
    {
     "name": "stdout",
     "output_type": "stream",
     "text": [
      "Epoch 1/50\n"
     ]
    },
    {
     "name": "stderr",
     "output_type": "stream",
     "text": [
      "2022-11-26 11:40:43.451060: I tensorflow/core/grappler/optimizers/custom_graph_optimizer_registry.cc:114] Plugin optimizer for device_type GPU is enabled.\n"
     ]
    },
    {
     "name": "stdout",
     "output_type": "stream",
     "text": [
      "5/5 [==============================] - ETA: 0s - loss: 1.0944 - accuracy: 0.3311\n",
      "Epoch 1: saving model to models/savedkeypoints.h5\n",
      "5/5 [==============================] - 1s 72ms/step - loss: 1.0944 - accuracy: 0.3311 - val_loss: 1.0366 - val_accuracy: 0.7105\n",
      "Epoch 2/50\n",
      "1/5 [=====>........................] - ETA: 0s - loss: 1.0564 - accuracy: 0.5938"
     ]
    },
    {
     "name": "stderr",
     "output_type": "stream",
     "text": [
      "2022-11-26 11:40:43.881127: I tensorflow/core/grappler/optimizers/custom_graph_optimizer_registry.cc:114] Plugin optimizer for device_type GPU is enabled.\n"
     ]
    },
    {
     "name": "stdout",
     "output_type": "stream",
     "text": [
      "\n",
      "Epoch 2: saving model to models/savedkeypoints.h5\n",
      "5/5 [==============================] - 0s 21ms/step - loss: 1.0308 - accuracy: 0.5946 - val_loss: 0.9769 - val_accuracy: 0.7105\n",
      "Epoch 3/50\n",
      "1/5 [=====>........................] - ETA: 0s - loss: 0.9887 - accuracy: 0.5938\n",
      "Epoch 3: saving model to models/savedkeypoints.h5\n",
      "5/5 [==============================] - 0s 20ms/step - loss: 0.9737 - accuracy: 0.8649 - val_loss: 0.9220 - val_accuracy: 1.0000\n",
      "Epoch 4/50\n",
      "1/5 [=====>........................] - ETA: 0s - loss: 0.9280 - accuracy: 0.9688\n",
      "Epoch 4: saving model to models/savedkeypoints.h5\n",
      "5/5 [==============================] - 0s 28ms/step - loss: 0.9247 - accuracy: 0.9797 - val_loss: 0.8747 - val_accuracy: 1.0000\n",
      "Epoch 5/50\n",
      "1/5 [=====>........................] - ETA: 0s - loss: 0.8867 - accuracy: 0.9688\n",
      "Epoch 5: saving model to models/savedkeypoints.h5\n",
      "5/5 [==============================] - 0s 26ms/step - loss: 0.8658 - accuracy: 0.9932 - val_loss: 0.8217 - val_accuracy: 1.0000\n",
      "Epoch 6/50\n",
      "1/5 [=====>........................] - ETA: 0s - loss: 0.8347 - accuracy: 1.0000\n",
      "Epoch 6: saving model to models/savedkeypoints.h5\n",
      "5/5 [==============================] - 0s 21ms/step - loss: 0.8163 - accuracy: 1.0000 - val_loss: 0.7673 - val_accuracy: 1.0000\n",
      "Epoch 7/50\n",
      "1/5 [=====>........................] - ETA: 0s - loss: 0.7893 - accuracy: 1.0000\n",
      "Epoch 7: saving model to models/savedkeypoints.h5\n",
      "5/5 [==============================] - 0s 20ms/step - loss: 0.7685 - accuracy: 1.0000 - val_loss: 0.7113 - val_accuracy: 1.0000\n",
      "Epoch 8/50\n",
      "1/5 [=====>........................] - ETA: 0s - loss: 0.7284 - accuracy: 1.0000\n",
      "Epoch 8: saving model to models/savedkeypoints.h5\n",
      "5/5 [==============================] - 0s 19ms/step - loss: 0.7119 - accuracy: 0.9932 - val_loss: 0.6534 - val_accuracy: 1.0000\n",
      "Epoch 9/50\n",
      "1/5 [=====>........................] - ETA: 0s - loss: 0.6849 - accuracy: 1.0000\n",
      "Epoch 9: saving model to models/savedkeypoints.h5\n",
      "5/5 [==============================] - 0s 19ms/step - loss: 0.6549 - accuracy: 1.0000 - val_loss: 0.5932 - val_accuracy: 1.0000\n",
      "Epoch 10/50\n",
      "1/5 [=====>........................] - ETA: 0s - loss: 0.6266 - accuracy: 0.9688\n",
      "Epoch 10: saving model to models/savedkeypoints.h5\n",
      "5/5 [==============================] - 0s 21ms/step - loss: 0.5994 - accuracy: 0.9865 - val_loss: 0.5314 - val_accuracy: 1.0000\n",
      "Epoch 11/50\n",
      "1/5 [=====>........................] - ETA: 0s - loss: 0.5710 - accuracy: 0.9688\n",
      "Epoch 11: saving model to models/savedkeypoints.h5\n",
      "5/5 [==============================] - 0s 21ms/step - loss: 0.5374 - accuracy: 0.9865 - val_loss: 0.4695 - val_accuracy: 1.0000\n",
      "Epoch 12/50\n",
      "1/5 [=====>........................] - ETA: 0s - loss: 0.4836 - accuracy: 1.0000\n",
      "Epoch 12: saving model to models/savedkeypoints.h5\n",
      "5/5 [==============================] - 0s 20ms/step - loss: 0.4746 - accuracy: 0.9932 - val_loss: 0.4093 - val_accuracy: 1.0000\n",
      "Epoch 13/50\n",
      "1/5 [=====>........................] - ETA: 0s - loss: 0.4308 - accuracy: 1.0000\n",
      "Epoch 13: saving model to models/savedkeypoints.h5\n",
      "5/5 [==============================] - 0s 20ms/step - loss: 0.4280 - accuracy: 0.9797 - val_loss: 0.3548 - val_accuracy: 1.0000\n",
      "Epoch 14/50\n",
      "1/5 [=====>........................] - ETA: 0s - loss: 0.3756 - accuracy: 1.0000\n",
      "Epoch 14: saving model to models/savedkeypoints.h5\n",
      "5/5 [==============================] - 0s 21ms/step - loss: 0.3654 - accuracy: 0.9865 - val_loss: 0.3005 - val_accuracy: 1.0000\n",
      "Epoch 15/50\n",
      "1/5 [=====>........................] - ETA: 0s - loss: 0.3144 - accuracy: 1.0000\n",
      "Epoch 15: saving model to models/savedkeypoints.h5\n",
      "5/5 [==============================] - 0s 20ms/step - loss: 0.2988 - accuracy: 1.0000 - val_loss: 0.2528 - val_accuracy: 1.0000\n",
      "Epoch 16/50\n",
      "1/5 [=====>........................] - ETA: 0s - loss: 0.2726 - accuracy: 1.0000\n",
      "Epoch 16: saving model to models/savedkeypoints.h5\n",
      "5/5 [==============================] - 0s 21ms/step - loss: 0.2557 - accuracy: 1.0000 - val_loss: 0.2103 - val_accuracy: 1.0000\n",
      "Epoch 17/50\n",
      "1/5 [=====>........................] - ETA: 0s - loss: 0.2180 - accuracy: 1.0000\n",
      "Epoch 17: saving model to models/savedkeypoints.h5\n",
      "5/5 [==============================] - 0s 24ms/step - loss: 0.2233 - accuracy: 0.9865 - val_loss: 0.1744 - val_accuracy: 1.0000\n",
      "Epoch 18/50\n",
      "4/5 [=======================>......] - ETA: 0s - loss: 0.1826 - accuracy: 0.9922\n",
      "Epoch 18: saving model to models/savedkeypoints.h5\n",
      "5/5 [==============================] - 0s 35ms/step - loss: 0.1784 - accuracy: 0.9932 - val_loss: 0.1438 - val_accuracy: 1.0000\n",
      "Epoch 19/50\n",
      "1/5 [=====>........................] - ETA: 0s - loss: 0.1535 - accuracy: 1.0000\n",
      "Epoch 19: saving model to models/savedkeypoints.h5\n",
      "5/5 [==============================] - 0s 19ms/step - loss: 0.1405 - accuracy: 1.0000 - val_loss: 0.1188 - val_accuracy: 1.0000\n",
      "Epoch 20/50\n",
      "1/5 [=====>........................] - ETA: 0s - loss: 0.1434 - accuracy: 1.0000\n",
      "Epoch 20: saving model to models/savedkeypoints.h5\n",
      "5/5 [==============================] - 0s 19ms/step - loss: 0.1248 - accuracy: 1.0000 - val_loss: 0.0983 - val_accuracy: 1.0000\n",
      "Epoch 21/50\n",
      "1/5 [=====>........................] - ETA: 0s - loss: 0.1041 - accuracy: 1.0000\n",
      "Epoch 21: saving model to models/savedkeypoints.h5\n",
      "5/5 [==============================] - 0s 20ms/step - loss: 0.1079 - accuracy: 0.9932 - val_loss: 0.0821 - val_accuracy: 1.0000\n",
      "Epoch 22/50\n",
      "1/5 [=====>........................] - ETA: 0s - loss: 0.0888 - accuracy: 1.0000\n",
      "Epoch 22: saving model to models/savedkeypoints.h5\n",
      "5/5 [==============================] - 0s 23ms/step - loss: 0.0841 - accuracy: 1.0000 - val_loss: 0.0686 - val_accuracy: 1.0000\n",
      "Epoch 23/50\n",
      "1/5 [=====>........................] - ETA: 0s - loss: 0.0712 - accuracy: 1.0000\n",
      "Epoch 23: saving model to models/savedkeypoints.h5\n",
      "5/5 [==============================] - 0s 23ms/step - loss: 0.0835 - accuracy: 0.9932 - val_loss: 0.0580 - val_accuracy: 1.0000\n",
      "Epoch 24/50\n",
      "1/5 [=====>........................] - ETA: 0s - loss: 0.0638 - accuracy: 1.0000\n",
      "Epoch 24: saving model to models/savedkeypoints.h5\n",
      "5/5 [==============================] - 0s 20ms/step - loss: 0.0679 - accuracy: 0.9932 - val_loss: 0.0499 - val_accuracy: 1.0000\n",
      "Epoch 25/50\n",
      "1/5 [=====>........................] - ETA: 0s - loss: 0.0593 - accuracy: 1.0000\n",
      "Epoch 25: saving model to models/savedkeypoints.h5\n",
      "5/5 [==============================] - 0s 19ms/step - loss: 0.0513 - accuracy: 1.0000 - val_loss: 0.0431 - val_accuracy: 1.0000\n",
      "Epoch 26/50\n",
      "1/5 [=====>........................] - ETA: 0s - loss: 0.0462 - accuracy: 1.0000\n",
      "Epoch 26: saving model to models/savedkeypoints.h5\n",
      "5/5 [==============================] - 0s 20ms/step - loss: 0.0431 - accuracy: 1.0000 - val_loss: 0.0374 - val_accuracy: 1.0000\n",
      "Epoch 27/50\n",
      "1/5 [=====>........................] - ETA: 0s - loss: 0.0435 - accuracy: 1.0000\n",
      "Epoch 27: saving model to models/savedkeypoints.h5\n",
      "5/5 [==============================] - 0s 25ms/step - loss: 0.0386 - accuracy: 1.0000 - val_loss: 0.0329 - val_accuracy: 1.0000\n",
      "Epoch 28/50\n",
      "1/5 [=====>........................] - ETA: 0s - loss: 0.0333 - accuracy: 1.0000\n",
      "Epoch 28: saving model to models/savedkeypoints.h5\n",
      "5/5 [==============================] - 0s 23ms/step - loss: 0.0328 - accuracy: 1.0000 - val_loss: 0.0292 - val_accuracy: 1.0000\n",
      "Epoch 29/50\n",
      "1/5 [=====>........................] - ETA: 0s - loss: 0.0293 - accuracy: 1.0000\n",
      "Epoch 29: saving model to models/savedkeypoints.h5\n",
      "5/5 [==============================] - 0s 22ms/step - loss: 0.0295 - accuracy: 1.0000 - val_loss: 0.0260 - val_accuracy: 1.0000\n",
      "Epoch 30/50\n",
      "1/5 [=====>........................] - ETA: 0s - loss: 0.0276 - accuracy: 1.0000\n",
      "Epoch 30: saving model to models/savedkeypoints.h5\n",
      "5/5 [==============================] - 0s 21ms/step - loss: 0.0256 - accuracy: 1.0000 - val_loss: 0.0233 - val_accuracy: 1.0000\n",
      "Epoch 31/50\n",
      "1/5 [=====>........................] - ETA: 0s - loss: 0.0231 - accuracy: 1.0000\n",
      "Epoch 31: saving model to models/savedkeypoints.h5\n",
      "5/5 [==============================] - 0s 25ms/step - loss: 0.0232 - accuracy: 1.0000 - val_loss: 0.0211 - val_accuracy: 1.0000\n",
      "Epoch 32/50\n",
      "1/5 [=====>........................] - ETA: 0s - loss: 0.0212 - accuracy: 1.0000\n",
      "Epoch 32: saving model to models/savedkeypoints.h5\n",
      "5/5 [==============================] - 0s 22ms/step - loss: 0.0211 - accuracy: 1.0000 - val_loss: 0.0192 - val_accuracy: 1.0000\n",
      "Epoch 33/50\n",
      "1/5 [=====>........................] - ETA: 0s - loss: 0.0231 - accuracy: 1.0000\n",
      "Epoch 33: saving model to models/savedkeypoints.h5\n",
      "5/5 [==============================] - 0s 20ms/step - loss: 0.0197 - accuracy: 1.0000 - val_loss: 0.0175 - val_accuracy: 1.0000\n",
      "Epoch 34/50\n",
      "1/5 [=====>........................] - ETA: 0s - loss: 0.0170 - accuracy: 1.0000\n",
      "Epoch 34: saving model to models/savedkeypoints.h5\n",
      "5/5 [==============================] - 0s 20ms/step - loss: 0.0176 - accuracy: 1.0000 - val_loss: 0.0160 - val_accuracy: 1.0000\n",
      "Epoch 35/50\n",
      "1/5 [=====>........................] - ETA: 0s - loss: 0.0174 - accuracy: 1.0000\n",
      "Epoch 35: saving model to models/savedkeypoints.h5\n",
      "5/5 [==============================] - 0s 20ms/step - loss: 0.0185 - accuracy: 1.0000 - val_loss: 0.0147 - val_accuracy: 1.0000\n",
      "Epoch 36/50\n",
      "1/5 [=====>........................] - ETA: 0s - loss: 0.0150 - accuracy: 1.0000\n",
      "Epoch 36: saving model to models/savedkeypoints.h5\n",
      "5/5 [==============================] - 0s 21ms/step - loss: 0.0239 - accuracy: 0.9932 - val_loss: 0.0135 - val_accuracy: 1.0000\n",
      "Epoch 37/50\n",
      "1/5 [=====>........................] - ETA: 0s - loss: 0.0155 - accuracy: 1.0000\n",
      "Epoch 37: saving model to models/savedkeypoints.h5\n",
      "5/5 [==============================] - 0s 21ms/step - loss: 0.0142 - accuracy: 1.0000 - val_loss: 0.0128 - val_accuracy: 1.0000\n",
      "Epoch 38/50\n",
      "1/5 [=====>........................] - ETA: 0s - loss: 0.0128 - accuracy: 1.0000\n",
      "Epoch 38: saving model to models/savedkeypoints.h5\n",
      "5/5 [==============================] - 0s 21ms/step - loss: 0.0146 - accuracy: 1.0000 - val_loss: 0.0120 - val_accuracy: 1.0000\n",
      "Epoch 39/50\n",
      "1/5 [=====>........................] - ETA: 0s - loss: 0.0116 - accuracy: 1.0000\n",
      "Epoch 39: saving model to models/savedkeypoints.h5\n",
      "5/5 [==============================] - 0s 21ms/step - loss: 0.0174 - accuracy: 1.0000 - val_loss: 0.0109 - val_accuracy: 1.0000\n",
      "Epoch 40/50\n",
      "1/5 [=====>........................] - ETA: 0s - loss: 0.0112 - accuracy: 1.0000\n",
      "Epoch 40: saving model to models/savedkeypoints.h5\n",
      "5/5 [==============================] - 0s 21ms/step - loss: 0.0122 - accuracy: 1.0000 - val_loss: 0.0101 - val_accuracy: 1.0000\n",
      "Epoch 41/50\n",
      "1/5 [=====>........................] - ETA: 0s - loss: 0.0101 - accuracy: 1.0000\n",
      "Epoch 41: saving model to models/savedkeypoints.h5\n",
      "5/5 [==============================] - 0s 21ms/step - loss: 0.0197 - accuracy: 0.9932 - val_loss: 0.0095 - val_accuracy: 1.0000\n",
      "Epoch 42/50\n",
      "1/5 [=====>........................] - ETA: 0s - loss: 0.0098 - accuracy: 1.0000\n",
      "Epoch 42: saving model to models/savedkeypoints.h5\n",
      "5/5 [==============================] - 0s 20ms/step - loss: 0.0116 - accuracy: 1.0000 - val_loss: 0.0091 - val_accuracy: 1.0000\n",
      "Epoch 43/50\n",
      "1/5 [=====>........................] - ETA: 0s - loss: 0.0089 - accuracy: 1.0000\n",
      "Epoch 43: saving model to models/savedkeypoints.h5\n",
      "5/5 [==============================] - 0s 20ms/step - loss: 0.0102 - accuracy: 1.0000 - val_loss: 0.0086 - val_accuracy: 1.0000\n",
      "Epoch 44/50\n",
      "1/5 [=====>........................] - ETA: 0s - loss: 0.0088 - accuracy: 1.0000\n",
      "Epoch 44: saving model to models/savedkeypoints.h5\n",
      "5/5 [==============================] - 0s 20ms/step - loss: 0.0092 - accuracy: 1.0000 - val_loss: 0.0082 - val_accuracy: 1.0000\n",
      "Epoch 45/50\n",
      "1/5 [=====>........................] - ETA: 0s - loss: 0.0175 - accuracy: 1.0000\n",
      "Epoch 45: saving model to models/savedkeypoints.h5\n",
      "5/5 [==============================] - 0s 21ms/step - loss: 0.0106 - accuracy: 1.0000 - val_loss: 0.0078 - val_accuracy: 1.0000\n",
      "Epoch 46/50\n",
      "1/5 [=====>........................] - ETA: 0s - loss: 0.0092 - accuracy: 1.0000\n",
      "Epoch 46: saving model to models/savedkeypoints.h5\n",
      "5/5 [==============================] - 0s 20ms/step - loss: 0.0083 - accuracy: 1.0000 - val_loss: 0.0074 - val_accuracy: 1.0000\n",
      "Epoch 47/50\n",
      "1/5 [=====>........................] - ETA: 0s - loss: 0.0072 - accuracy: 1.0000\n",
      "Epoch 47: saving model to models/savedkeypoints.h5\n",
      "5/5 [==============================] - 0s 21ms/step - loss: 0.0084 - accuracy: 1.0000 - val_loss: 0.0069 - val_accuracy: 1.0000\n",
      "Epoch 48/50\n",
      "1/5 [=====>........................] - ETA: 0s - loss: 0.0068 - accuracy: 1.0000\n",
      "Epoch 48: saving model to models/savedkeypoints.h5\n",
      "5/5 [==============================] - 0s 24ms/step - loss: 0.0074 - accuracy: 1.0000 - val_loss: 0.0065 - val_accuracy: 1.0000\n",
      "Epoch 49/50\n",
      "1/5 [=====>........................] - ETA: 0s - loss: 0.0070 - accuracy: 1.0000\n",
      "Epoch 49: saving model to models/savedkeypoints.h5\n",
      "5/5 [==============================] - 0s 19ms/step - loss: 0.0071 - accuracy: 1.0000 - val_loss: 0.0061 - val_accuracy: 1.0000\n",
      "Epoch 50/50\n",
      "1/5 [=====>........................] - ETA: 0s - loss: 0.0062 - accuracy: 1.0000\n",
      "Epoch 50: saving model to models/savedkeypoints.h5\n",
      "5/5 [==============================] - 0s 21ms/step - loss: 0.0066 - accuracy: 1.0000 - val_loss: 0.0058 - val_accuracy: 1.0000\n"
     ]
    },
    {
     "data": {
      "text/plain": [
       "<keras.callbacks.History at 0x16ca81940>"
      ]
     },
     "execution_count": 20,
     "metadata": {},
     "output_type": "execute_result"
    }
   ],
   "source": [
    "classifier.fit(x_train,y_train,epochs=50, batch_size=32,callbacks=[cp_callback,es_callback],validation_data=(x_test,y_test))"
   ]
  },
  {
   "cell_type": "code",
   "execution_count": 18,
   "metadata": {},
   "outputs": [
    {
     "name": "stdout",
     "output_type": "stream",
     "text": [
      "2/2 [==============================] - 0s 5ms/step - loss: 0.1205 - accuracy: 1.0000\n"
     ]
    },
    {
     "data": {
      "text/plain": [
       "[0.12047038972377777, 1.0]"
      ]
     },
     "execution_count": 18,
     "metadata": {},
     "output_type": "execute_result"
    }
   ],
   "source": [
    "classifier.evaluate(x_test,y_test)"
   ]
  },
  {
   "cell_type": "code",
   "execution_count": 21,
   "metadata": {},
   "outputs": [],
   "source": [
    "from keras.models import load_model\n",
    "\n",
    "model = load_model(save_model_path)"
   ]
  },
  {
   "cell_type": "code",
   "execution_count": 22,
   "metadata": {},
   "outputs": [
    {
     "name": "stdout",
     "output_type": "stream",
     "text": [
      "2/2 [==============================] - 0s 17ms/step\n"
     ]
    },
    {
     "name": "stderr",
     "output_type": "stream",
     "text": [
      "2022-11-26 11:40:55.632675: I tensorflow/core/grappler/optimizers/custom_graph_optimizer_registry.cc:114] Plugin optimizer for device_type GPU is enabled.\n"
     ]
    }
   ],
   "source": [
    "#making predictions\n",
    "y_pred = model.predict(x_test)\n",
    "y_pred = np.argmax(y_pred, axis =-1)"
   ]
  },
  {
   "cell_type": "code",
   "execution_count": 23,
   "metadata": {},
   "outputs": [],
   "source": [
    "model.save(save_model_path)"
   ]
  },
  {
   "cell_type": "code",
   "execution_count": 24,
   "metadata": {},
   "outputs": [],
   "source": [
    "from sklearn.metrics import confusion_matrix,classification_report\n",
    "import itertools"
   ]
  },
  {
   "cell_type": "code",
   "execution_count": 25,
   "metadata": {},
   "outputs": [
    {
     "name": "stdout",
     "output_type": "stream",
     "text": [
      "Confusion matrix, without normalization\n",
      "[[13  0  0]\n",
      " [ 0 11  0]\n",
      " [ 0  0 14]]\n"
     ]
    },
    {
     "data": {
      "image/png": "[encoded data removed]",
      "text/plain": [
       "<Figure size 640x480 with 2 Axes>"
      ]
     },
     "metadata": {},
     "output_type": "display_data"
    }
   ],
   "source": [
    "cm = confusion_matrix(y_test,y_pred)\n",
    "\n",
    "def plot_confusion_matrix(cm, classes,\n",
    "                        normalize=False,\n",
    "                        title='Confusion matrix',\n",
    "                        cmap=plt.cm.Blues):\n",
    "    \"\"\"\n",
    "    This function prints and plots the confusion matrix.\n",
    "    Normalization can be applied by setting `normalize=True`.\n",
    "    \"\"\"\n",
    "    plt.imshow(cm, interpolation='nearest', cmap=cmap)\n",
    "    plt.title(title)\n",
    "    plt.colorbar()\n",
    "    tick_marks = np.arange(len(classes))\n",
    "    plt.xticks(tick_marks, classes, rotation=45)\n",
    "    plt.yticks(tick_marks, classes)\n",
    "\n",
    "    if normalize:\n",
    "        cm = cm.astype('float') / cm.sum(axis=1)[:, np.newaxis]\n",
    "        print(\"Normalized confusion matrix\")\n",
    "    else:\n",
    "        print('Confusion matrix, without normalization')\n",
    "\n",
    "    print(cm)\n",
    "\n",
    "    thresh = cm.max() / 2.\n",
    "    for i, j in itertools.product(range(cm.shape[0]), range(cm.shape[1])):\n",
    "        plt.text(j, i, cm[i, j],\n",
    "            horizontalalignment=\"center\",\n",
    "            color=\"white\" if cm[i, j] > thresh else \"black\")\n",
    "\n",
    "    plt.tight_layout()\n",
    "    plt.ylabel('True label')\n",
    "    plt.xlabel('Predicted label')\n",
    "    \n",
    "class_name = ['hi','peace', 'okay']\n",
    "plot_confusion_matrix(cm,classes = class_name)"
   ]
  },
  {
   "cell_type": "code",
   "execution_count": 26,
   "metadata": {},
   "outputs": [
    {
     "name": "stdout",
     "output_type": "stream",
     "text": [
      "              precision    recall  f1-score   support\n",
      "\n",
      "           0       1.00      1.00      1.00        13\n",
      "           1       1.00      1.00      1.00        11\n",
      "           2       1.00      1.00      1.00        14\n",
      "\n",
      "    accuracy                           1.00        38\n",
      "   macro avg       1.00      1.00      1.00        38\n",
      "weighted avg       1.00      1.00      1.00        38\n",
      "\n"
     ]
    }
   ],
   "source": [
    "cr = classification_report(y_test,y_pred)\n",
    "print(cr)"
   ]
  },
  {
   "cell_type": "markdown",
   "metadata": {},
   "source": [
    "Converting model to tflite"
   ]
  },
  {
   "cell_type": "code",
   "execution_count": 27,
   "metadata": {},
   "outputs": [],
   "source": [
    "import tensorflow as tf"
   ]
  },
  {
   "cell_type": "code",
   "execution_count": 28,
   "metadata": {},
   "outputs": [
    {
     "name": "stdout",
     "output_type": "stream",
     "text": [
      "INFO:tensorflow:Assets written to: /var/folders/2n/zdf95zpn6m30n4ykvp3gm_f00000gn/T/tmp0yv82s7z/assets\n"
     ]
    },
    {
     "name": "stderr",
     "output_type": "stream",
     "text": [
      "2022-11-26 11:41:13.858366: W tensorflow/compiler/mlir/lite/python/tf_tfl_flatbuffer_helpers.cc:362] Ignored output_format.\n",
      "2022-11-26 11:41:13.858380: W tensorflow/compiler/mlir/lite/python/tf_tfl_flatbuffer_helpers.cc:365] Ignored drop_control_dependency.\n",
      "2022-11-26 11:41:13.858874: I tensorflow/cc/saved_model/reader.cc:45] Reading SavedModel from: /var/folders/2n/zdf95zpn6m30n4ykvp3gm_f00000gn/T/tmp0yv82s7z\n",
      "2022-11-26 11:41:13.860084: I tensorflow/cc/saved_model/reader.cc:89] Reading meta graph with tags { serve }\n",
      "2022-11-26 11:41:13.860090: I tensorflow/cc/saved_model/reader.cc:130] Reading SavedModel debug info (if present) from: /var/folders/2n/zdf95zpn6m30n4ykvp3gm_f00000gn/T/tmp0yv82s7z\n",
      "2022-11-26 11:41:13.864913: I tensorflow/compiler/mlir/mlir_graph_optimization_pass.cc:354] MLIR V1 optimization pass is not enabled\n",
      "2022-11-26 11:41:13.866147: I tensorflow/cc/saved_model/loader.cc:229] Restoring SavedModel bundle.\n",
      "2022-11-26 11:41:13.915102: I tensorflow/cc/saved_model/loader.cc:213] Running initialization op on SavedModel bundle at path: /var/folders/2n/zdf95zpn6m30n4ykvp3gm_f00000gn/T/tmp0yv82s7z\n",
      "2022-11-26 11:41:13.924216: I tensorflow/cc/saved_model/loader.cc:305] SavedModel load for tags { serve }; Status: success: OK. Took 65346 microseconds.\n",
      "2022-11-26 11:41:13.963306: I tensorflow/compiler/mlir/tensorflow/utils/dump_mlir_util.cc:268] disabling MLIR crash reproducer, set env var `MLIR_CRASH_REPRODUCER_DIRECTORY` to enable.\n"
     ]
    },
    {
     "data": {
      "text/plain": [
       "12032"
      ]
     },
     "execution_count": 28,
     "metadata": {},
     "output_type": "execute_result"
    }
   ],
   "source": [
    "converter = tf.lite.TFLiteConverter.from_keras_model(model)\n",
    "converter.optimizations = [tf.lite.Optimize.DEFAULT]\n",
    "tflite_model = converter.convert()\n",
    "open(tflite_model_path, \"wb\").write(tflite_model)"
   ]
  },
  {
   "cell_type": "markdown",
   "metadata": {},
   "source": [
    "Inference Test"
   ]
  },
  {
   "cell_type": "code",
   "execution_count": 29,
   "metadata": {},
   "outputs": [],
   "source": [
    "interpreter = tf.lite.Interpreter(model_path = tflite_model_path)\n",
    "interpreter.allocate_tensors()\n",
    "input_details = interpreter.get_input_details()\n",
    "output_details = interpreter.get_output_details()\n",
    "interpreter.set_tensor(input_details[0]['index'],np.array([x_test[0]], dtype = np.float32))\n"
   ]
  },
  {
   "cell_type": "code",
   "execution_count": 30,
   "metadata": {},
   "outputs": [
    {
     "name": "stdout",
     "output_type": "stream",
     "text": [
      "[[0.00259734 0.9952251  0.00217753]]\n"
     ]
    }
   ],
   "source": [
    "interpreter.invoke()\n",
    "result = interpreter.get_tensor(output_details[0]['index'])\n",
    "print(result)"
   ]
  },
  {
   "cell_type": "code",
   "execution_count": 31,
   "metadata": {},
   "outputs": [
    {
     "name": "stdout",
     "output_type": "stream",
     "text": [
      "2.10.0\n"
     ]
    }
   ],
   "source": [
    "print(tf.__version__)"
   ]
  }
 ],
 "metadata": {
  "kernelspec": {
   "display_name": "Python 3.9.13 ('tensorflow')",
   "language": "python",
   "name": "python3"
  },
  "language_info": {
   "codemirror_mode": {
    "name": "ipython",
    "version": 3
   },
   "file_extension": ".py",
   "mimetype": "text/x-python",
   "name": "python",
   "nbconvert_exporter": "python",
   "pygments_lexer": "ipython3",
   "version": "3.9.13"
  },
  "orig_nbformat": 4,
  "vscode": {
   "interpreter": {
    "hash": "15344b3c6a42ce34221504e0e5ae68b7c797f15b0b6ed2e1b1c75ed4fc391169"
   }
  }
 },
 "nbformat": 4,
 "nbformat_minor": 2
}
