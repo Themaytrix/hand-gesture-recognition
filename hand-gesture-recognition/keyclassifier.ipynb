{
 "cells": [
  {
   "cell_type": "code",
   "execution_count": 1,
   "metadata": {},
   "outputs": [],
   "source": [
    "import numpy as np\n",
    "import pandas as pd\n",
    "import matplotlib.pyplot as plt"
   ]
  },
  {
   "cell_type": "code",
   "execution_count": 2,
   "metadata": {},
   "outputs": [],
   "source": [
    "save_model_path = 'models/savedkeypoints.h5'\n",
    "tflite_model_path = 'models/savedkeypointclassifies.tflite'"
   ]
  },
  {
   "cell_type": "code",
   "execution_count": 3,
   "metadata": {},
   "outputs": [],
   "source": [
    "num_classes = 4"
   ]
  },
  {
   "cell_type": "markdown",
   "metadata": {},
   "source": [
    "Data Preprocessing"
   ]
  },
  {
   "cell_type": "code",
   "execution_count": 38,
   "metadata": {},
   "outputs": [],
   "source": [
    "dataframe = pd.read_csv(\"keypoints.csv\", header=None)\n",
    "x = dataframe.iloc[:,1:43].values\n",
    "y = dataframe.iloc[:,0].values"
   ]
  },
  {
   "cell_type": "code",
   "execution_count": 39,
   "metadata": {},
   "outputs": [],
   "source": [
    "from sklearn.preprocessing import MinMaxScaler\n",
    "sc = MinMaxScaler(feature_range=(0,1))\n",
    "x_scaled =sc.fit_transform(x)"
   ]
  },
  {
   "cell_type": "code",
   "execution_count": 40,
   "metadata": {},
   "outputs": [],
   "source": [
    "from sklearn.model_selection import train_test_split\n",
    "x_train,x_test,y_train,y_test = train_test_split(x_scaled,y,test_size=0.2,random_state=0)"
   ]
  },
  {
   "cell_type": "markdown",
   "metadata": {},
   "source": [
    "Building NN"
   ]
  },
  {
   "cell_type": "code",
   "execution_count": 41,
   "metadata": {},
   "outputs": [],
   "source": [
    "from keras.models import Sequential\n",
    "from keras.layers import Dense,Dropout"
   ]
  },
  {
   "cell_type": "code",
   "execution_count": 42,
   "metadata": {},
   "outputs": [],
   "source": [
    "classifier = Sequential()"
   ]
  },
  {
   "cell_type": "code",
   "execution_count": 43,
   "metadata": {},
   "outputs": [],
   "source": [
    "classifier.add(Dense(42,activation='relu',input_shape =(42,)))\n",
    "classifier.add(Dropout(0.4))\n",
    "classifier.add(Dense(50, activation='relu'))\n",
    "classifier.add(Dropout(0.4))\n",
    "classifier.add(Dense(30, activation='relu'))\n",
    "classifier.add(Dropout(0.2))\n",
    "classifier.add(Dense(num_classes,activation='softmax'))\n"
   ]
  },
  {
   "cell_type": "code",
   "execution_count": 44,
   "metadata": {},
   "outputs": [
    {
     "name": "stdout",
     "output_type": "stream",
     "text": [
      "Model: \"sequential_2\"\n",
      "_________________________________________________________________\n",
      " Layer (type)                Output Shape              Param #   \n",
      "=================================================================\n",
      " dense_3 (Dense)             (None, 42)                1806      \n",
      "                                                                 \n",
      " dropout_2 (Dropout)         (None, 42)                0         \n",
      "                                                                 \n",
      " dense_4 (Dense)             (None, 50)                2150      \n",
      "                                                                 \n",
      " dropout_3 (Dropout)         (None, 50)                0         \n",
      "                                                                 \n",
      " dense_5 (Dense)             (None, 30)                1530      \n",
      "                                                                 \n",
      " dropout_4 (Dropout)         (None, 30)                0         \n",
      "                                                                 \n",
      " dense_6 (Dense)             (None, 4)                 124       \n",
      "                                                                 \n",
      "=================================================================\n",
      "Total params: 5,610\n",
      "Trainable params: 5,610\n",
      "Non-trainable params: 0\n",
      "_________________________________________________________________\n"
     ]
    }
   ],
   "source": [
    "classifier.summary()"
   ]
  },
  {
   "cell_type": "code",
   "execution_count": 45,
   "metadata": {},
   "outputs": [],
   "source": [
    "from keras.callbacks import ModelCheckpoint,EarlyStopping"
   ]
  },
  {
   "cell_type": "code",
   "execution_count": 46,
   "metadata": {},
   "outputs": [],
   "source": [
    "cp_callback = ModelCheckpoint(save_model_path,verbose=1,save_weights_only=False)\n",
    "es_callback =EarlyStopping(patience=20, verbose = 1)"
   ]
  },
  {
   "cell_type": "code",
   "execution_count": 47,
   "metadata": {},
   "outputs": [],
   "source": [
    "classifier.compile(optimizer='adam', loss='sparse_categorical_crossentropy', metrics=['accuracy'])\n"
   ]
  },
  {
   "cell_type": "code",
   "execution_count": 48,
   "metadata": {},
   "outputs": [
    {
     "name": "stdout",
     "output_type": "stream",
     "text": [
      "Epoch 1/50\n",
      " 1/20 [>.............................] - ETA: 21s - loss: 1.3719 - accuracy: 0.3125\n",
      "Epoch 1: saving model to models\\savedkeypoints.h5\n",
      "20/20 [==============================] - 2s 65ms/step - loss: 1.3313 - accuracy: 0.3415 - val_loss: 1.2573 - val_accuracy: 0.3442\n",
      "Epoch 2/50\n",
      "16/20 [=======================>......] - ETA: 0s - loss: 1.2562 - accuracy: 0.4082\n",
      "Epoch 2: saving model to models\\savedkeypoints.h5\n",
      "20/20 [==============================] - 0s 16ms/step - loss: 1.2612 - accuracy: 0.4069 - val_loss: 1.1643 - val_accuracy: 0.4091\n",
      "Epoch 3/50\n",
      "16/20 [=======================>......] - ETA: 0s - loss: 1.1936 - accuracy: 0.4746\n",
      "Epoch 3: saving model to models\\savedkeypoints.h5\n",
      "20/20 [==============================] - 1s 60ms/step - loss: 1.1854 - accuracy: 0.4853 - val_loss: 1.0621 - val_accuracy: 0.6753\n",
      "Epoch 4/50\n",
      "16/20 [=======================>......] - ETA: 0s - loss: 1.1464 - accuracy: 0.5020\n",
      "Epoch 4: saving model to models\\savedkeypoints.h5\n",
      "20/20 [==============================] - 0s 13ms/step - loss: 1.1503 - accuracy: 0.5082 - val_loss: 0.9515 - val_accuracy: 0.6948\n",
      "Epoch 5/50\n",
      "18/20 [==========================>...] - ETA: 0s - loss: 1.0478 - accuracy: 0.5590\n",
      "Epoch 5: saving model to models\\savedkeypoints.h5\n",
      "20/20 [==============================] - 0s 24ms/step - loss: 1.0460 - accuracy: 0.5572 - val_loss: 0.8315 - val_accuracy: 0.7597\n",
      "Epoch 6/50\n",
      "12/20 [=================>............] - ETA: 0s - loss: 0.9339 - accuracy: 0.6042\n",
      "Epoch 6: saving model to models\\savedkeypoints.h5\n",
      "20/20 [==============================] - 0s 20ms/step - loss: 0.9046 - accuracy: 0.6095 - val_loss: 0.7292 - val_accuracy: 0.8117\n",
      "Epoch 7/50\n",
      " 1/20 [>.............................] - ETA: 0s - loss: 0.9280 - accuracy: 0.6250\n",
      "Epoch 7: saving model to models\\savedkeypoints.h5\n",
      "20/20 [==============================] - 1s 34ms/step - loss: 0.8779 - accuracy: 0.6307 - val_loss: 0.6555 - val_accuracy: 0.8312\n",
      "Epoch 8/50\n",
      "18/20 [==========================>...] - ETA: 0s - loss: 0.7779 - accuracy: 0.6944\n",
      "Epoch 8: saving model to models\\savedkeypoints.h5\n",
      "20/20 [==============================] - 0s 16ms/step - loss: 0.7795 - accuracy: 0.6944 - val_loss: 0.5811 - val_accuracy: 0.8506\n",
      "Epoch 9/50\n",
      " 1/20 [>.............................] - ETA: 0s - loss: 0.8587 - accuracy: 0.5938\n",
      "Epoch 9: saving model to models\\savedkeypoints.h5\n",
      "20/20 [==============================] - 1s 35ms/step - loss: 0.7427 - accuracy: 0.7141 - val_loss: 0.5477 - val_accuracy: 0.8377\n",
      "Epoch 10/50\n",
      "20/20 [==============================] - ETA: 0s - loss: 0.7370 - accuracy: 0.6993\n",
      "Epoch 10: saving model to models\\savedkeypoints.h5\n",
      "20/20 [==============================] - 0s 21ms/step - loss: 0.7370 - accuracy: 0.6993 - val_loss: 0.5107 - val_accuracy: 0.8571\n",
      "Epoch 11/50\n",
      "18/20 [==========================>...] - ETA: 0s - loss: 0.6605 - accuracy: 0.7396\n",
      "Epoch 11: saving model to models\\savedkeypoints.h5\n",
      "20/20 [==============================] - 0s 20ms/step - loss: 0.6534 - accuracy: 0.7435 - val_loss: 0.4594 - val_accuracy: 0.8506\n",
      "Epoch 12/50\n",
      " 1/20 [>.............................] - ETA: 0s - loss: 0.5514 - accuracy: 0.7500\n",
      "Epoch 12: saving model to models\\savedkeypoints.h5\n",
      "20/20 [==============================] - 1s 34ms/step - loss: 0.6681 - accuracy: 0.7337 - val_loss: 0.4463 - val_accuracy: 0.8377\n",
      "Epoch 13/50\n",
      "12/20 [=================>............] - ETA: 0s - loss: 0.6443 - accuracy: 0.7500\n",
      "Epoch 13: saving model to models\\savedkeypoints.h5\n",
      "20/20 [==============================] - 0s 19ms/step - loss: 0.6255 - accuracy: 0.7614 - val_loss: 0.4126 - val_accuracy: 0.8571\n",
      "Epoch 14/50\n",
      "18/20 [==========================>...] - ETA: 0s - loss: 0.5976 - accuracy: 0.7795\n",
      "Epoch 14: saving model to models\\savedkeypoints.h5\n",
      "20/20 [==============================] - 0s 20ms/step - loss: 0.5961 - accuracy: 0.7778 - val_loss: 0.3951 - val_accuracy: 0.8377\n",
      "Epoch 15/50\n",
      "19/20 [===========================>..] - ETA: 0s - loss: 0.5488 - accuracy: 0.8026\n",
      "Epoch 15: saving model to models\\savedkeypoints.h5\n",
      "20/20 [==============================] - 0s 22ms/step - loss: 0.5615 - accuracy: 0.8023 - val_loss: 0.3876 - val_accuracy: 0.8377\n",
      "Epoch 16/50\n",
      " 1/20 [>.............................] - ETA: 0s - loss: 0.8159 - accuracy: 0.5625\n",
      "Epoch 16: saving model to models\\savedkeypoints.h5\n",
      "20/20 [==============================] - 0s 22ms/step - loss: 0.5849 - accuracy: 0.7810 - val_loss: 0.4150 - val_accuracy: 0.8377\n",
      "Epoch 17/50\n",
      "14/20 [====================>.........] - ETA: 0s - loss: 0.5725 - accuracy: 0.7812\n",
      "Epoch 17: saving model to models\\savedkeypoints.h5\n",
      "20/20 [==============================] - 0s 22ms/step - loss: 0.5544 - accuracy: 0.7925 - val_loss: 0.3600 - val_accuracy: 0.8571\n",
      "Epoch 18/50\n",
      "16/20 [=======================>......] - ETA: 0s - loss: 0.5521 - accuracy: 0.7734\n",
      "Epoch 18: saving model to models\\savedkeypoints.h5\n",
      "20/20 [==============================] - 0s 20ms/step - loss: 0.5376 - accuracy: 0.7843 - val_loss: 0.3523 - val_accuracy: 0.8506\n",
      "Epoch 19/50\n",
      "20/20 [==============================] - ETA: 0s - loss: 0.5371 - accuracy: 0.7908\n",
      "Epoch 19: saving model to models\\savedkeypoints.h5\n",
      "20/20 [==============================] - 0s 15ms/step - loss: 0.5371 - accuracy: 0.7908 - val_loss: 0.3973 - val_accuracy: 0.8377\n",
      "Epoch 20/50\n",
      "19/20 [===========================>..] - ETA: 0s - loss: 0.5117 - accuracy: 0.8092\n",
      "Epoch 20: saving model to models\\savedkeypoints.h5\n",
      "20/20 [==============================] - 1s 38ms/step - loss: 0.5105 - accuracy: 0.8105 - val_loss: 0.3327 - val_accuracy: 0.8571\n",
      "Epoch 21/50\n",
      "17/20 [========================>.....] - ETA: 0s - loss: 0.4690 - accuracy: 0.8199\n",
      "Epoch 21: saving model to models\\savedkeypoints.h5\n",
      "20/20 [==============================] - 1s 33ms/step - loss: 0.4728 - accuracy: 0.8170 - val_loss: 0.3067 - val_accuracy: 0.8701\n",
      "Epoch 22/50\n",
      "19/20 [===========================>..] - ETA: 0s - loss: 0.5251 - accuracy: 0.8010\n",
      "Epoch 22: saving model to models\\savedkeypoints.h5\n",
      "20/20 [==============================] - 0s 11ms/step - loss: 0.5229 - accuracy: 0.8023 - val_loss: 0.3239 - val_accuracy: 0.8571\n",
      "Epoch 23/50\n",
      " 1/20 [>.............................] - ETA: 0s - loss: 0.4579 - accuracy: 0.8438\n",
      "Epoch 23: saving model to models\\savedkeypoints.h5\n",
      "20/20 [==============================] - 0s 24ms/step - loss: 0.4517 - accuracy: 0.8219 - val_loss: 0.2962 - val_accuracy: 0.8636\n",
      "Epoch 24/50\n",
      "17/20 [========================>.....] - ETA: 0s - loss: 0.4367 - accuracy: 0.8364\n",
      "Epoch 24: saving model to models\\savedkeypoints.h5\n",
      "20/20 [==============================] - 0s 21ms/step - loss: 0.4319 - accuracy: 0.8366 - val_loss: 0.2675 - val_accuracy: 0.8701\n",
      "Epoch 25/50\n",
      "15/20 [=====================>........] - ETA: 0s - loss: 0.4357 - accuracy: 0.8396\n",
      "Epoch 25: saving model to models\\savedkeypoints.h5\n",
      "20/20 [==============================] - 0s 23ms/step - loss: 0.4369 - accuracy: 0.8301 - val_loss: 0.2735 - val_accuracy: 0.8701\n",
      "Epoch 26/50\n",
      "17/20 [========================>.....] - ETA: 0s - loss: 0.4045 - accuracy: 0.8474\n",
      "Epoch 26: saving model to models\\savedkeypoints.h5\n",
      "20/20 [==============================] - 0s 22ms/step - loss: 0.4145 - accuracy: 0.8399 - val_loss: 0.2716 - val_accuracy: 0.8636\n",
      "Epoch 27/50\n",
      "20/20 [==============================] - ETA: 0s - loss: 0.4088 - accuracy: 0.8317\n",
      "Epoch 27: saving model to models\\savedkeypoints.h5\n",
      "20/20 [==============================] - 0s 26ms/step - loss: 0.4088 - accuracy: 0.8317 - val_loss: 0.2395 - val_accuracy: 0.8766\n",
      "Epoch 28/50\n",
      "19/20 [===========================>..] - ETA: 0s - loss: 0.4264 - accuracy: 0.8141\n",
      "Epoch 28: saving model to models\\savedkeypoints.h5\n",
      "20/20 [==============================] - 0s 15ms/step - loss: 0.4258 - accuracy: 0.8154 - val_loss: 0.2363 - val_accuracy: 0.8896\n",
      "Epoch 29/50\n",
      "19/20 [===========================>..] - ETA: 0s - loss: 0.4038 - accuracy: 0.8503\n",
      "Epoch 29: saving model to models\\savedkeypoints.h5\n",
      "20/20 [==============================] - 1s 47ms/step - loss: 0.4015 - accuracy: 0.8513 - val_loss: 0.2573 - val_accuracy: 0.8701\n",
      "Epoch 30/50\n",
      "20/20 [==============================] - ETA: 0s - loss: 0.3841 - accuracy: 0.8431\n",
      "Epoch 30: saving model to models\\savedkeypoints.h5\n",
      "20/20 [==============================] - 0s 18ms/step - loss: 0.3841 - accuracy: 0.8431 - val_loss: 0.2508 - val_accuracy: 0.8766\n",
      "Epoch 31/50\n",
      "20/20 [==============================] - ETA: 0s - loss: 0.3799 - accuracy: 0.8382\n",
      "Epoch 31: saving model to models\\savedkeypoints.h5\n",
      "20/20 [==============================] - 1s 40ms/step - loss: 0.3799 - accuracy: 0.8382 - val_loss: 0.2232 - val_accuracy: 0.8896\n",
      "Epoch 32/50\n",
      "20/20 [==============================] - ETA: 0s - loss: 0.4020 - accuracy: 0.8399\n",
      "Epoch 32: saving model to models\\savedkeypoints.h5\n",
      "20/20 [==============================] - 0s 17ms/step - loss: 0.4020 - accuracy: 0.8399 - val_loss: 0.2359 - val_accuracy: 0.8766\n",
      "Epoch 33/50\n",
      "19/20 [===========================>..] - ETA: 0s - loss: 0.3679 - accuracy: 0.8651\n",
      "Epoch 33: saving model to models\\savedkeypoints.h5\n",
      "20/20 [==============================] - 1s 37ms/step - loss: 0.3656 - accuracy: 0.8660 - val_loss: 0.2199 - val_accuracy: 0.8831\n",
      "Epoch 34/50\n",
      "17/20 [========================>.....] - ETA: 0s - loss: 0.3764 - accuracy: 0.8474\n",
      "Epoch 34: saving model to models\\savedkeypoints.h5\n",
      "20/20 [==============================] - 0s 14ms/step - loss: 0.3915 - accuracy: 0.8464 - val_loss: 0.2334 - val_accuracy: 0.8831\n",
      "Epoch 35/50\n",
      "19/20 [===========================>..] - ETA: 0s - loss: 0.3669 - accuracy: 0.8536\n",
      "Epoch 35: saving model to models\\savedkeypoints.h5\n",
      "20/20 [==============================] - 0s 24ms/step - loss: 0.3672 - accuracy: 0.8529 - val_loss: 0.2217 - val_accuracy: 0.8831\n",
      "Epoch 36/50\n",
      "15/20 [=====================>........] - ETA: 0s - loss: 0.3468 - accuracy: 0.8667\n",
      "Epoch 36: saving model to models\\savedkeypoints.h5\n",
      "20/20 [==============================] - 1s 53ms/step - loss: 0.3449 - accuracy: 0.8611 - val_loss: 0.2150 - val_accuracy: 0.8766\n",
      "Epoch 37/50\n",
      "16/20 [=======================>......] - ETA: 0s - loss: 0.3693 - accuracy: 0.8711\n",
      "Epoch 37: saving model to models\\savedkeypoints.h5\n",
      "20/20 [==============================] - 0s 14ms/step - loss: 0.3575 - accuracy: 0.8775 - val_loss: 0.2427 - val_accuracy: 0.8701\n",
      "Epoch 38/50\n",
      "19/20 [===========================>..] - ETA: 0s - loss: 0.3388 - accuracy: 0.8618\n",
      "Epoch 38: saving model to models\\savedkeypoints.h5\n",
      "20/20 [==============================] - 1s 36ms/step - loss: 0.3372 - accuracy: 0.8627 - val_loss: 0.1987 - val_accuracy: 0.8831\n",
      "Epoch 39/50\n",
      "17/20 [========================>.....] - ETA: 0s - loss: 0.3180 - accuracy: 0.8713\n",
      "Epoch 39: saving model to models\\savedkeypoints.h5\n",
      "20/20 [==============================] - 0s 17ms/step - loss: 0.3237 - accuracy: 0.8709 - val_loss: 0.2424 - val_accuracy: 0.8636\n",
      "Epoch 40/50\n",
      "19/20 [===========================>..] - ETA: 0s - loss: 0.3468 - accuracy: 0.8586\n",
      "Epoch 40: saving model to models\\savedkeypoints.h5\n",
      "20/20 [==============================] - 1s 39ms/step - loss: 0.3450 - accuracy: 0.8595 - val_loss: 0.2077 - val_accuracy: 0.8766\n",
      "Epoch 41/50\n",
      "18/20 [==========================>...] - ETA: 0s - loss: 0.3392 - accuracy: 0.8681\n",
      "Epoch 41: saving model to models\\savedkeypoints.h5\n",
      "20/20 [==============================] - 0s 18ms/step - loss: 0.3313 - accuracy: 0.8725 - val_loss: 0.1876 - val_accuracy: 0.8896\n",
      "Epoch 42/50\n",
      "19/20 [===========================>..] - ETA: 0s - loss: 0.3440 - accuracy: 0.8734\n",
      "Epoch 42: saving model to models\\savedkeypoints.h5\n",
      "20/20 [==============================] - 0s 18ms/step - loss: 0.3419 - accuracy: 0.8742 - val_loss: 0.1694 - val_accuracy: 0.9545\n",
      "Epoch 43/50\n",
      "20/20 [==============================] - ETA: 0s - loss: 0.3287 - accuracy: 0.8873\n",
      "Epoch 43: saving model to models\\savedkeypoints.h5\n",
      "20/20 [==============================] - 0s 26ms/step - loss: 0.3287 - accuracy: 0.8873 - val_loss: 0.1804 - val_accuracy: 0.9156\n",
      "Epoch 44/50\n",
      " 1/20 [>.............................] - ETA: 0s - loss: 0.2626 - accuracy: 0.9062\n",
      "Epoch 44: saving model to models\\savedkeypoints.h5\n",
      "20/20 [==============================] - 0s 19ms/step - loss: 0.2910 - accuracy: 0.8922 - val_loss: 0.1671 - val_accuracy: 0.9416\n",
      "Epoch 45/50\n",
      "19/20 [===========================>..] - ETA: 0s - loss: 0.2991 - accuracy: 0.8947\n",
      "Epoch 45: saving model to models\\savedkeypoints.h5\n",
      "20/20 [==============================] - 1s 32ms/step - loss: 0.3035 - accuracy: 0.8922 - val_loss: 0.1731 - val_accuracy: 0.9091\n",
      "Epoch 46/50\n",
      "15/20 [=====================>........] - ETA: 0s - loss: 0.2953 - accuracy: 0.8938\n",
      "Epoch 46: saving model to models\\savedkeypoints.h5\n",
      "20/20 [==============================] - 0s 12ms/step - loss: 0.3036 - accuracy: 0.8905 - val_loss: 0.1642 - val_accuracy: 0.9286\n",
      "Epoch 47/50\n",
      " 1/20 [>.............................] - ETA: 0s - loss: 0.3003 - accuracy: 0.8750\n",
      "Epoch 47: saving model to models\\savedkeypoints.h5\n",
      "20/20 [==============================] - 0s 14ms/step - loss: 0.3049 - accuracy: 0.8791 - val_loss: 0.1875 - val_accuracy: 0.9026\n",
      "Epoch 48/50\n",
      " 1/20 [>.............................] - ETA: 0s - loss: 0.3215 - accuracy: 0.8438\n",
      "Epoch 48: saving model to models\\savedkeypoints.h5\n",
      "20/20 [==============================] - 1s 37ms/step - loss: 0.3076 - accuracy: 0.8856 - val_loss: 0.1664 - val_accuracy: 0.9481\n",
      "Epoch 49/50\n",
      "18/20 [==========================>...] - ETA: 0s - loss: 0.2712 - accuracy: 0.9097\n",
      "Epoch 49: saving model to models\\savedkeypoints.h5\n",
      "20/20 [==============================] - 0s 11ms/step - loss: 0.2713 - accuracy: 0.9101 - val_loss: 0.1440 - val_accuracy: 0.9351\n",
      "Epoch 50/50\n",
      " 1/20 [>.............................] - ETA: 0s - loss: 0.1848 - accuracy: 0.9375\n",
      "Epoch 50: saving model to models\\savedkeypoints.h5\n",
      "20/20 [==============================] - 0s 17ms/step - loss: 0.2731 - accuracy: 0.9003 - val_loss: 0.1247 - val_accuracy: 0.9870\n"
     ]
    },
    {
     "data": {
      "text/plain": [
       "<keras.callbacks.History at 0x25e48e83790>"
      ]
     },
     "execution_count": 48,
     "metadata": {},
     "output_type": "execute_result"
    }
   ],
   "source": [
    "classifier.fit(x_train,y_train,epochs=50, batch_size=32,callbacks=[cp_callback,es_callback],validation_data=(x_test,y_test))"
   ]
  },
  {
   "cell_type": "code",
   "execution_count": 49,
   "metadata": {},
   "outputs": [
    {
     "name": "stdout",
     "output_type": "stream",
     "text": [
      "5/5 [==============================] - 0s 2ms/step - loss: 0.1247 - accuracy: 0.9870\n"
     ]
    },
    {
     "data": {
      "text/plain": [
       "[0.1247192844748497, 0.9870129823684692]"
      ]
     },
     "execution_count": 49,
     "metadata": {},
     "output_type": "execute_result"
    }
   ],
   "source": [
    "classifier.evaluate(x_test,y_test)"
   ]
  },
  {
   "cell_type": "code",
   "execution_count": 52,
   "metadata": {},
   "outputs": [],
   "source": [
    "from keras.models import load_model\n",
    "\n",
    "model = load_model(save_model_path)"
   ]
  },
  {
   "cell_type": "code",
   "execution_count": 50,
   "metadata": {},
   "outputs": [],
   "source": [
    "#making predictions\n",
    "y_pred = model.predict(x_test)\n",
    "y_pred = np.argmax(y_pred, axis =-1)"
   ]
  },
  {
   "cell_type": "code",
   "execution_count": 53,
   "metadata": {},
   "outputs": [],
   "source": [
    "model.save(save_model_path)"
   ]
  },
  {
   "cell_type": "code",
   "execution_count": 23,
   "metadata": {},
   "outputs": [],
   "source": [
    "from sklearn.metrics import confusion_matrix,classification_report\n",
    "import itertools"
   ]
  },
  {
   "cell_type": "code",
   "execution_count": 51,
   "metadata": {},
   "outputs": [
    {
     "name": "stdout",
     "output_type": "stream",
     "text": [
      "Confusion matrix, without normalization\n",
      "[[16  0  0  2]\n",
      " [ 0 58  0  0]\n",
      " [ 0  0 51  0]\n",
      " [ 0  0  0 27]]\n"
     ]
    },
    {
     "data": {
      "image/png": "[encoded data removed]",
      "text/plain": [
       "<Figure size 432x288 with 2 Axes>"
      ]
     },
     "metadata": {
      "needs_background": "light"
     },
     "output_type": "display_data"
    }
   ],
   "source": [
    "cm = confusion_matrix(y_test,y_pred)\n",
    "\n",
    "def plot_confusion_matrix(cm, classes,\n",
    "                        normalize=False,\n",
    "                        title='Confusion matrix',\n",
    "                        cmap=plt.cm.Blues):\n",
    "    \"\"\"\n",
    "    This function prints and plots the confusion matrix.\n",
    "    Normalization can be applied by setting `normalize=True`.\n",
    "    \"\"\"\n",
    "    plt.imshow(cm, interpolation='nearest', cmap=cmap)\n",
    "    plt.title(title)\n",
    "    plt.colorbar()\n",
    "    tick_marks = np.arange(len(classes))\n",
    "    plt.xticks(tick_marks, classes, rotation=45)\n",
    "    plt.yticks(tick_marks, classes)\n",
    "\n",
    "    if normalize:\n",
    "        cm = cm.astype('float') / cm.sum(axis=1)[:, np.newaxis]\n",
    "        print(\"Normalized confusion matrix\")\n",
    "    else:\n",
    "        print('Confusion matrix, without normalization')\n",
    "\n",
    "    print(cm)\n",
    "\n",
    "    thresh = cm.max() / 2.\n",
    "    for i, j in itertools.product(range(cm.shape[0]), range(cm.shape[1])):\n",
    "        plt.text(j, i, cm[i, j],\n",
    "            horizontalalignment=\"center\",\n",
    "            color=\"white\" if cm[i, j] > thresh else \"black\")\n",
    "\n",
    "    plt.tight_layout()\n",
    "    plt.ylabel('True label')\n",
    "    plt.xlabel('Predicted label')\n",
    "    \n",
    "class_name = ['hi','peace', 'okay','perfecto']\n",
    "plot_confusion_matrix(cm,classes = class_name)"
   ]
  },
  {
   "cell_type": "code",
   "execution_count": 26,
   "metadata": {},
   "outputs": [
    {
     "name": "stdout",
     "output_type": "stream",
     "text": [
      "              precision    recall  f1-score   support\n",
      "\n",
      "           0       0.92      0.85      0.88        13\n",
      "           1       1.00      1.00      1.00        58\n",
      "           2       1.00      1.00      1.00        46\n",
      "           3       0.94      0.97      0.95        30\n",
      "\n",
      "    accuracy                           0.98       147\n",
      "   macro avg       0.96      0.95      0.96       147\n",
      "weighted avg       0.98      0.98      0.98       147\n",
      "\n"
     ]
    }
   ],
   "source": [
    "cr = classification_report(y_test,y_pred)\n",
    "print(cr)"
   ]
  },
  {
   "cell_type": "markdown",
   "metadata": {},
   "source": [
    "Converting model to tflite"
   ]
  },
  {
   "cell_type": "code",
   "execution_count": 27,
   "metadata": {},
   "outputs": [],
   "source": [
    "import tensorflow as tf"
   ]
  },
  {
   "cell_type": "code",
   "execution_count": 54,
   "metadata": {},
   "outputs": [
    {
     "name": "stdout",
     "output_type": "stream",
     "text": [
      "INFO:tensorflow:Assets written to: C:\\Users\\Raymond\\AppData\\Local\\Temp\\tmpck5u97po\\assets\n"
     ]
    },
    {
     "name": "stderr",
     "output_type": "stream",
     "text": [
      "INFO:tensorflow:Assets written to: C:\\Users\\Raymond\\AppData\\Local\\Temp\\tmpck5u97po\\assets\n",
      "WARNING:absl:Buffer deduplication procedure will be skipped when flatbuffer library is not properly loaded\n"
     ]
    },
    {
     "data": {
      "text/plain": [
       "8864"
      ]
     },
     "execution_count": 54,
     "metadata": {},
     "output_type": "execute_result"
    }
   ],
   "source": [
    "converter = tf.lite.TFLiteConverter.from_keras_model(model)\n",
    "converter.optimizations = [tf.lite.Optimize.DEFAULT]\n",
    "tflite_model = converter.convert()\n",
    "open(tflite_model_path, \"wb\").write(tflite_model)"
   ]
  },
  {
   "cell_type": "markdown",
   "metadata": {},
   "source": [
    "Inference Test"
   ]
  },
  {
   "cell_type": "code",
   "execution_count": 56,
   "metadata": {},
   "outputs": [],
   "source": [
    "interpreter = tf.lite.Interpreter(model_path = tflite_model_path)\n",
    "interpreter.allocate_tensors()\n",
    "input_details = interpreter.get_input_details()\n",
    "output_details = interpreter.get_output_details()\n",
    "interpreter.set_tensor(input_details[0]['index'],np.array([x_test[0]], dtype = np.float32))\n"
   ]
  },
  {
   "cell_type": "code",
   "execution_count": 57,
   "metadata": {},
   "outputs": [
    {
     "name": "stdout",
     "output_type": "stream",
     "text": [
      "[[2.0561370e-03 9.9576807e-01 2.1232706e-03 5.2620006e-05]]\n"
     ]
    }
   ],
   "source": [
    "interpreter.invoke()\n",
    "result = interpreter.get_tensor(output_details[0]['index'])\n",
    "print(result)"
   ]
  }
 ],
 "metadata": {
  "kernelspec": {
   "display_name": "Python 3.10.4 ('tf')",
   "language": "python",
   "name": "python3"
  },
  "language_info": {
   "codemirror_mode": {
    "name": "ipython",
    "version": 3
   },
   "file_extension": ".py",
   "mimetype": "text/x-python",
   "name": "python",
   "nbconvert_exporter": "python",
   "pygments_lexer": "ipython3",
   "version": "3.10.4"
  },
  "orig_nbformat": 4,
  "vscode": {
   "interpreter": {
    "hash": "6ffa4d5779f3ede6683c80dc300f1993ab4e3409716a309b0e725ee049ab6df6"
   }
  }
 },
 "nbformat": 4,
 "nbformat_minor": 2
}
